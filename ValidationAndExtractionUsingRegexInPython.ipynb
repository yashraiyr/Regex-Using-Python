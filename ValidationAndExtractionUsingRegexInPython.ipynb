{
  "cells": [
    {
      "cell_type": "markdown",
      "metadata": {
        "id": "njl9t3Efl_K2"
      },
      "source": [
        "# **Validation, Extraction and Replacement of Patterns and Strings Using Regex in Python.**"
      ]
    },
    {
      "cell_type": "markdown",
      "metadata": {
        "id": "7B8zSdQ96EzV"
      },
      "source": [
        "# **Validation Using Regex in Python:**\n",
        "\n",
        "We are going to validate the following in web forms with a given critera:\n",
        "\n",
        "*   Email Validation\n",
        "*   Name Validation\n",
        "*   Date of Birth Validation\n",
        "*   Username Validation\n",
        "*   Password Validation"
      ]
    },
    {
      "cell_type": "code",
      "execution_count": 1,
      "metadata": {
        "id": "17om4ij55cXQ"
      },
      "outputs": [],
      "source": [
        "# Import regex\n",
        "import re"
      ]
    },
    {
      "cell_type": "markdown",
      "metadata": {
        "id": "tTDd7UuP7hdW"
      },
      "source": [
        "**Email Validation:**\n",
        "\n",
        "Criteria:\n",
        "*   Can contain the following only:\n",
        "    *   Uppercase Characters.\n",
        "    *   Lowercase Characters.\n",
        "    *   Digits.\n",
        "    *   Special Characters ('-', '_', '.') only.\n",
        "\n",
        "For example: user_name.1-2-3@pymail.com"
      ]
    },
    {
      "cell_type": "code",
      "execution_count": 2,
      "metadata": {
        "colab": {
          "base_uri": "https://localhost:8080/"
        },
        "id": "cPdaP4Hi7a3_",
        "outputId": "4bcd956f-1fb7-4f7b-f2b5-55dfd0250aed"
      },
      "outputs": [
        {
          "output_type": "stream",
          "name": "stdout",
          "text": [
            "Enter Your Email address: user_$name$.1-2-3$@pymail.com\n",
            "Sorry, Email does not Match!!\n",
            "Enter Your Email address: user_name.1-2-3@pymail.eu\n",
            "Sorry, Email does not Match!!\n",
            "Enter Your Email address: user_name.1-2-3@pymail.com\n",
            "Congratulations, Email is Matched!!\n"
          ]
        }
      ],
      "source": [
        "# Get the email from the user\n",
        "while True:\n",
        "  email = input('Enter Your Email address: ')\n",
        "  if re.fullmatch('^(\\w|\\.|\\_|\\-)+[@]\\w+[.]\\w{3}$', email):\n",
        "    verified = True\n",
        "    print('Congratulations, Email is Matched!!')\n",
        "    break\n",
        "  else:\n",
        "    print('Sorry, Email does not Match!!')"
      ]
    },
    {
      "cell_type": "markdown",
      "metadata": {
        "id": "_jyzVEBuO435"
      },
      "source": [
        "**Name Validation:**\n",
        "\n",
        "Criteria:\n",
        "*   Can contain the following only:\n",
        "    *   Uppercase Characters.\n",
        "    *   Lowercase Characters.\n",
        "\n",
        "Note: \n",
        "*   First letter of the first name should be in capital.\n",
        "*   First letter of the last name should be in capital.\n",
        "\n",
        "For example: User Name"
      ]
    },
    {
      "cell_type": "code",
      "execution_count": 3,
      "metadata": {
        "colab": {
          "base_uri": "https://localhost:8080/"
        },
        "id": "L5co5IiMO4aQ",
        "outputId": "e8dd93f8-b635-4f47-e24a-6e0f8a12b3bb"
      },
      "outputs": [
        {
          "output_type": "stream",
          "name": "stdout",
          "text": [
            "Enter Your Name: USER NAME\n",
            "Sorry, Name does not Match\n",
            "Enter Your Name: user name\n",
            "Sorry, Name does not Match\n",
            "Enter Your Name: user@ name123\n",
            "Sorry, Name does not Match\n",
            "Enter Your Name: User name\n",
            "Sorry, Name does not Match\n",
            "Enter Your Name: user Name\n",
            "Sorry, Name does not Match\n",
            "Enter Your Name: User Name\n",
            "Congratulations, Name is Matched!!\n"
          ]
        }
      ],
      "source": [
        "# Get the name from the user\n",
        "while True:\n",
        "  name = input('Enter Your Name: ')\n",
        "  if re.fullmatch('^([A-Z][a-z]*)+( [A-Z][a-z]*)+$', name):\n",
        "    verified = True\n",
        "    print('Congratulations, Name is Matched!!')\n",
        "    break\n",
        "  else:\n",
        "    print('Sorry, Name does not Match')"
      ]
    },
    {
      "cell_type": "markdown",
      "metadata": {
        "id": "R1eL_dX_T5SJ"
      },
      "source": [
        "**Date of Birth Validation:**\n",
        "\n",
        "Criteria:\n",
        "*   Can contain only the following:\n",
        "    *   Digits.\n",
        "\n",
        "Format:DD/MM/YYYY\n",
        "For example: 12/12/2012"
      ]
    },
    {
      "cell_type": "code",
      "execution_count": 4,
      "metadata": {
        "colab": {
          "base_uri": "https://localhost:8080/"
        },
        "id": "3t49pbwEUPPr",
        "outputId": "d8fcc838-6db0-4c39-a809-b26e382ef454"
      },
      "outputs": [
        {
          "output_type": "stream",
          "name": "stdout",
          "text": [
            "Enter Your Date of Birth (DD/MM/YYYY): 99/@#/abcd\n",
            "Sorry, Date of Birth does not Match!!\n",
            "Enter Your Date of Birth (DD/MM/YYYY): 40/12/2012\n",
            "Sorry, Date of Birth does not Match!!\n",
            "Enter Your Date of Birth (DD/MM/YYYY): 12/40/2012\n",
            "Sorry, Date of Birth does not Match!!\n",
            "Enter Your Date of Birth (DD/MM/YYYY): 12/12/3000\n",
            "Sorry, Date of Birth does not Match!!\n",
            "Enter Your Date of Birth (DD/MM/YYYY): 12/12/2012\n",
            "Congratulations, Date of Birth is Matched!!\n"
          ]
        }
      ],
      "source": [
        "# Get the date of birth from the user\n",
        "while True:\n",
        "  dob = input('Enter Your Date of Birth (DD/MM/YYYY): ')\n",
        "  if re.fullmatch('([0-3][0-9])/([01][0-9])/([0-2][0-9][0-9][0-9])', dob):\n",
        "    verified = True\n",
        "    print('Congratulations, Date of Birth is Matched!!')\n",
        "    break\n",
        "  else:\n",
        "    print('Sorry, Date of Birth does not Match!!')"
      ]
    },
    {
      "cell_type": "markdown",
      "metadata": {
        "id": "0fL8M-SSWXdC"
      },
      "source": [
        "**Username Validation:**\n",
        "\n",
        "Criteria:\n",
        "*   Can contain only the following:\n",
        "    *   Uppercase Characters.\n",
        "    *   Lowercase Characters.\n",
        "    *   Digits.\n",
        "    *   Special Characters ('_', '.') only.\n",
        "\n",
        "For example: user_name.123"
      ]
    },
    {
      "cell_type": "code",
      "execution_count": 5,
      "metadata": {
        "colab": {
          "base_uri": "https://localhost:8080/"
        },
        "id": "UOn71YdGWYRB",
        "outputId": "34797f93-6539-4ee0-f568-4d8abf2f6cf8"
      },
      "outputs": [
        {
          "output_type": "stream",
          "name": "stdout",
          "text": [
            "Enter Your User Name: user@name1-2-3\n",
            "Sorry, username does not Match!!\n",
            "Enter Your User Name: user_name.123\n",
            "Congratulations, username is Matched!!\n"
          ]
        }
      ],
      "source": [
        "# Get the username from the user\n",
        "while True:\n",
        "  username = input('Enter Your User Name: ')\n",
        "  if re.fullmatch('^[a-z0-9_.A-Z]+$', username):\n",
        "    verfied = True\n",
        "    print('Congratulations, username is Matched!!')\n",
        "    break\n",
        "  else:\n",
        "    print('Sorry, username does not Match!!')"
      ]
    },
    {
      "cell_type": "markdown",
      "metadata": {
        "id": "3mtSXx4gWnTR"
      },
      "source": [
        "**Password Validation:**\n",
        "\n",
        "Criteria:\n",
        "\n",
        "*   At least eight characters long\n",
        "*   Contains a lowercase letter\n",
        "*   Contains an uppercase letter\n",
        "*   Contains a number\n",
        "*   Any of the special characters: @#$%^&+=\n",
        "\n",
        "Note: Valid passwords will only be alphanumeric characters.\n",
        "\n",
        "For example: User@Name123"
      ]
    },
    {
      "cell_type": "code",
      "execution_count": 6,
      "metadata": {
        "colab": {
          "base_uri": "https://localhost:8080/"
        },
        "id": "hTV35KR4XTbp",
        "outputId": "e8b6003b-1e14-4859-dd52-457cc033f815"
      },
      "outputs": [
        {
          "output_type": "stream",
          "name": "stdout",
          "text": [
            "Enter Password (Min. 8 characters): user1N@\n",
            "Sorry, Password does not Match!!\n",
            "Enter Password (Min. 8 characters): user@name123\n",
            "Sorry, Password does not Match!!\n",
            "Enter Password (Min. 8 characters): Username123\n",
            "Sorry, Password does not Match!!\n",
            "Enter Password (Min. 8 characters): User@Name\n",
            "Sorry, Password does not Match!!\n",
            "Enter Password (Min. 8 characters): User@Name123\n",
            "Congratulations, Password is Matched!!\n"
          ]
        }
      ],
      "source": [
        "# Get the password from the user\n",
        "while True:\n",
        "  pwd = input('Enter Password (Min. 8 characters): ')\n",
        "  if re.fullmatch('^(?=.*[a-z])(?=.*[A-Z])(?=.*\\d)(?=.*[@$!%*#?&])[A-Za-z\\d@$!#%*?&]{8,}$', pwd):\n",
        "    verfied = True\n",
        "    print('Congratulations, Password is Matched!!')\n",
        "    break\n",
        "  else:\n",
        "    print('Sorry, Password does not Match!!')"
      ]
    },
    {
      "cell_type": "markdown",
      "metadata": {
        "id": "Lkpa1GEFb-H7"
      },
      "source": [
        "# **Extraction and Data replacement from Server Logs Using Regex in Python:**\n",
        "\n",
        "We are going to extract the following the data and update with the same criteria as mentioned before:\n",
        "\n",
        "*   Email Updation\n",
        "*   Name Updation\n",
        "*   Date of Birth Updation\n",
        "*   Username Updation\n",
        "*   Password Updation"
      ]
    },
    {
      "cell_type": "markdown",
      "metadata": {
        "id": "u0PIi09Kcnar"
      },
      "source": [
        "**Email Updation:**\n",
        "\n",
        "Criteria:\n",
        "*   Can contain the following only:\n",
        "    *   Uppercase Characters.\n",
        "    *   Lowercase Characters.\n",
        "    *   Digits.\n",
        "    *   Special Characters ('-', '_', '.') only.\n",
        "\n",
        "For example: user_name.1-2-3@pymail.com"
      ]
    },
    {
      "cell_type": "code",
      "execution_count": 7,
      "metadata": {
        "colab": {
          "base_uri": "https://localhost:8080/"
        },
        "id": "X1m51tmTeBaK",
        "outputId": "83a6cdad-fec9-458a-c34d-5dc90e68c020"
      },
      "outputs": [
        {
          "output_type": "stream",
          "name": "stdout",
          "text": [
            "Current Email Address: user_name.1-2-3@pymail.com\n",
            "Enter Your Current Email Address: userr_name.1-2-3@pymail.com\n",
            "Incorrect Email Address\n",
            "Enter Your Current Email Address: user_name.1-2-3@pymail.com\n",
            "Enter Your New Email address: userr_name.1-2-3@pymail.eu\n",
            "Sorry, Mail does not Match!!\n",
            "Enter Your New Email address: userr_name.1-2-3@pymail.com\n",
            "Congratulations, Email is Matched!!\n",
            "Email is Updated!!\n",
            "userr_name.1-2-3@pymail.com\n"
          ]
        }
      ],
      "source": [
        "print('Current Email Address: %s' %email)\n",
        "while True:\n",
        "  retype_email = input('Enter Your Current Email Address: ')\n",
        "  if email == retype_email:\n",
        "    checked = True\n",
        "    break\n",
        "  else:\n",
        "    print('Incorrect Email Address')\n",
        "\n",
        "while True:\n",
        "  newemail = input('Enter Your New Email address: ')\n",
        "  if re.fullmatch('^(\\w|\\.|\\_|\\-)+[@]\\w+[.]\\w{3}$', newemail):\n",
        "    verified = True\n",
        "    print('Congratulations, Email is Matched!!')\n",
        "    break\n",
        "  else:\n",
        "    print('Sorry, Mail does not Match!!')\n",
        "email = newemail\n",
        "print('Email is Updated!!')\n",
        "print(email)"
      ]
    },
    {
      "cell_type": "markdown",
      "metadata": {
        "id": "bCkxeuQKds2r"
      },
      "source": [
        "**Name Updation:**\n",
        "\n",
        "Criteria:\n",
        "*   Can contain the following only:\n",
        "    *   Uppercase Characters.\n",
        "    *   Lowercase Characters.\n",
        "\n",
        "Note: \n",
        "*   First name should be in capital.\n",
        "*   Last name should be in capital.\n",
        "\n",
        "For example: User Name"
      ]
    },
    {
      "cell_type": "code",
      "execution_count": 8,
      "metadata": {
        "colab": {
          "base_uri": "https://localhost:8080/"
        },
        "id": "IfwSyZ9SgV0M",
        "outputId": "949f6378-f870-4bbd-b53c-b2064ad5dc22"
      },
      "outputs": [
        {
          "output_type": "stream",
          "name": "stdout",
          "text": [
            "Current Name: User Name\n",
            "Enter Your Name: User Name\n",
            "Name is Same!!\n",
            "Enter Your Name: user@ name123\n",
            "Sorry, Name does not Match\n",
            "Enter Your Name: Userr Name\n",
            "Congratulations, Name is Matched!!\n",
            "Name is Updated!!\n",
            "Your New Name is:  Userr Name\n"
          ]
        }
      ],
      "source": [
        "print('Current Name: %s' %name)\n",
        "while True:\n",
        "  newname = input('Enter Your Name: ')\n",
        "  if name != newname:\n",
        "    if re.fullmatch('^([A-Z][a-z]*)+( [A-Z][a-z]*)+$', newname):\n",
        "      verified = True\n",
        "      print('Congratulations, Name is Matched!!')\n",
        "      break\n",
        "    else:\n",
        "      print('Sorry, Name does not Match')\n",
        "  else:\n",
        "    print('Name is Same!!')\n",
        "name = newname\n",
        "print('Name is Updated!!')\n",
        "print('Your New Name is: ', name)"
      ]
    },
    {
      "cell_type": "markdown",
      "metadata": {
        "id": "6jVXCpa7d34q"
      },
      "source": [
        "**Date of Birth Updation:**\n",
        "\n",
        "Criteria:\n",
        "*   Can contain only the following:\n",
        "    *   Digits.\n",
        "\n",
        "Format:DD/MM/YYYY\n",
        "For example: 12/12/2012"
      ]
    },
    {
      "cell_type": "code",
      "execution_count": 9,
      "metadata": {
        "id": "Kppv8nDFjA4l",
        "colab": {
          "base_uri": "https://localhost:8080/"
        },
        "outputId": "e52870c7-f80b-4d08-97ef-0fa740b6cd70"
      },
      "outputs": [
        {
          "output_type": "stream",
          "name": "stdout",
          "text": [
            "Current Date of Birth: 12/12/2012\n",
            "Enter Your Date of Birth (DD/MM/YYYY): 12/12/2012\n",
            "Date of Birth is Same!!\n",
            "Enter Your Date of Birth (DD/MM/YYYY): 99/@#/abcd\n",
            "Sorry, Date of Birth does not Match!!\n",
            "Enter Your Date of Birth (DD/MM/YYYY): 11/11/2011\n",
            "Congratulations, Date of Birth is Matched!!\n",
            "Date of Birth is Updated!!\n",
            "Your New Date of Birth is:  11/11/2011\n"
          ]
        }
      ],
      "source": [
        "print('Current Date of Birth: %s' %dob)\n",
        "while True:\n",
        "  newdob = input('Enter Your Date of Birth (DD/MM/YYYY): ')\n",
        "  if dob != newdob:\n",
        "    if re.fullmatch('([0-3][0-9])/([01][0-9])/([0-2][0-9][0-9][0-9])', newdob):\n",
        "      verified = True\n",
        "      print('Congratulations, Date of Birth is Matched!!')\n",
        "      break\n",
        "    else:\n",
        "      print('Sorry, Date of Birth does not Match!!')\n",
        "  else:\n",
        "    print('Date of Birth is Same!!')\n",
        "dob = newdob\n",
        "print('Date of Birth is Updated!!')\n",
        "print('Your New Date of Birth is: ', dob)"
      ]
    },
    {
      "cell_type": "markdown",
      "metadata": {
        "id": "j2GOBQOFdtDj"
      },
      "source": [
        "**Username Updation:**\n",
        "\n",
        "Criteria:\n",
        "*   Can contain only the following:\n",
        "    *   Uppercase Characters.\n",
        "    *   Lowercase Characters.\n",
        "    *   Digits.\n",
        "    *   Special Characters ('_', '.') only.\n",
        "\n",
        "For example: user_name.123"
      ]
    },
    {
      "cell_type": "code",
      "execution_count": 10,
      "metadata": {
        "id": "Wmy8DyDEj_Ct",
        "colab": {
          "base_uri": "https://localhost:8080/"
        },
        "outputId": "343b3fbf-2702-49df-ecc0-f54743a7b26c"
      },
      "outputs": [
        {
          "output_type": "stream",
          "name": "stdout",
          "text": [
            "Current Username: user_name.123\n",
            "Enter Your New username: user_name.123\n",
            "Username is Same!!\n",
            "Enter Your New username: user@name1-2-3\n",
            "Sorry, username does not Match!!\n",
            "Enter Your New username: userr_name.123\n",
            "Congratulations, username is Matched!!\n",
            "username is Updated!!\n",
            "Your New username is:  userr_name.123\n"
          ]
        }
      ],
      "source": [
        "print('Current Username: %s' %username)\n",
        "while True:\n",
        "  newusername = input('Enter Your New username: ')\n",
        "  if username != newusername:\n",
        "    if re.fullmatch('^[a-z0-9_.A-Z]+$', newusername):\n",
        "      verfied = True\n",
        "      print('Congratulations, username is Matched!!')\n",
        "      break\n",
        "    else:\n",
        "      print('Sorry, username does not Match!!')\n",
        "  else:\n",
        "    print('Username is Same!!')\n",
        "username = newusername\n",
        "print('username is Updated!!')\n",
        "print('Your New username is: ', username)"
      ]
    },
    {
      "cell_type": "markdown",
      "metadata": {
        "id": "6y2MKfBSdtPr"
      },
      "source": [
        "**Password Updation:**\n",
        "\n",
        "Criteria:\n",
        "\n",
        "*   At least eight characters long\n",
        "*   Contains a lowercase letter\n",
        "*   Contains an uppercase letter\n",
        "*   Contains a number\n",
        "*   Any of the special characters: @#$%^&+=\n",
        "\n",
        "Note: Valid passwords will only be alphanumeric characters.\n",
        "\n",
        "For example: User@Name123"
      ]
    },
    {
      "cell_type": "code",
      "execution_count": 11,
      "metadata": {
        "id": "hn8U1MPWk0EN",
        "colab": {
          "base_uri": "https://localhost:8080/"
        },
        "outputId": "57e22a21-c046-4974-bec7-7764c25206c7"
      },
      "outputs": [
        {
          "output_type": "stream",
          "name": "stdout",
          "text": [
            "Enter Your Current Password: Userr@Name123\n",
            "Incorrect Password\n",
            "Enter Your Current Password: User@Name123\n",
            "Enter New Password (Min. 8 characters): Userrname123\n",
            "Sorry, Password does not Match!!\n",
            "Enter New Password (Min. 8 characters): Userr@Name123\n",
            "Congratulations, Password is Matched!!\n",
            "Password is Updated\n"
          ]
        }
      ],
      "source": [
        "while True:\n",
        "  retype_pwd = input('Enter Your Current Password: ')\n",
        "  if pwd == retype_pwd:\n",
        "    checked = True\n",
        "    break\n",
        "  else:\n",
        "    print('Incorrect Password')\n",
        "\n",
        "while True:\n",
        "  pwd = input('Enter New Password (Min. 8 characters): ')\n",
        "  if re.fullmatch('^(?=.*[a-z])(?=.*[A-Z])(?=.*\\d)(?=.*[@$!%*#?&])[A-Za-z\\d@$!#.%*?&]{6,}$', pwd):\n",
        "    verfied = True\n",
        "    print('Congratulations, Password is Matched!!')\n",
        "    break\n",
        "  else:\n",
        "    print('Sorry, Password does not Match!!')\n",
        "print('Password is Updated')"
      ]
    }
  ],
  "metadata": {
    "colab": {
      "name": "ValidationAndExtractionUsingRegexInPython.ipynb",
      "provenance": [],
      "collapsed_sections": []
    },
    "kernelspec": {
      "display_name": "Python 3",
      "name": "python3"
    },
    "language_info": {
      "name": "python"
    }
  },
  "nbformat": 4,
  "nbformat_minor": 0
}